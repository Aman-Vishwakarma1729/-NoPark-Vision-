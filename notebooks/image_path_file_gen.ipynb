{
 "cells": [
  {
   "cell_type": "markdown",
   "metadata": {},
   "source": [
    "## Create .txt file containing iamge path for each split"
   ]
  },
  {
   "cell_type": "code",
   "execution_count": 2,
   "metadata": {},
   "outputs": [
    {
     "name": "stdout",
     "output_type": "stream",
     "text": [
      "Warning: Image vehicles_14.jpg not found for label vehicles_14.txt in train\n",
      "Warning: Image vehicles_15.jpg not found for label vehicles_15.txt in train\n",
      "Warning: Image vehicles_5.jpg not found for label vehicles_5.txt in train\n",
      "Created D:\\VIT\\Cap-Stone\\AI_Based_Real-Time_Illegal_Parking_Detection_with_Dynamic_Customization_of_No-Parking_Zones\\datasets\\vehicles\\Final_Mix_Data_Splitted\\train.txt with 1048 image paths\n",
      "Warning: Image vehicles_1.jpg not found for label vehicles_1.txt in test\n",
      "Created D:\\VIT\\Cap-Stone\\AI_Based_Real-Time_Illegal_Parking_Detection_with_Dynamic_Customization_of_No-Parking_Zones\\datasets\\vehicles\\Final_Mix_Data_Splitted\\test.txt with 299 image paths\n",
      "Created D:\\VIT\\Cap-Stone\\AI_Based_Real-Time_Illegal_Parking_Detection_with_Dynamic_Customization_of_No-Parking_Zones\\datasets\\vehicles\\Final_Mix_Data_Splitted\\val.txt with 151 image paths\n",
      "Done!\n"
     ]
    }
   ],
   "source": [
    "import os\n",
    "\n",
    "base_path = r\"D:\\VIT\\Cap-Stone\\AI_Based_Real-Time_Illegal_Parking_Detection_with_Dynamic_Customization_of_No-Parking_Zones\\datasets\\vehicles\\Final_Mix_Data_Splitted\"\n",
    "\n",
    "splits = ['train', 'test', 'val']\n",
    "\n",
    "def create_image_list(split):\n",
    "    images_dir = os.path.join(base_path, split, 'images')\n",
    "    labels_dir = os.path.join(base_path, split, 'labels')\n",
    "    output_file = os.path.join(base_path, f\"{split}.txt\")\n",
    "    \n",
    "    label_files = [f for f in os.listdir(labels_dir) if f.endswith('.txt')]\n",
    "    \n",
    "    image_paths = []\n",
    "    for label_file in label_files:\n",
    "        image_name = os.path.splitext(label_file)[0] + '.jpg'  # Adjust extension if needed (.png, etc.)\n",
    "        image_path = os.path.join(images_dir, image_name)\n",
    "        \n",
    "        if os.path.exists(image_path):\n",
    "            image_paths.append(image_path)\n",
    "        else:\n",
    "            print(f\"Warning: Image {image_name} not found for label {label_file} in {split}\")\n",
    "    \n",
    "    with open(output_file, 'w') as f:\n",
    "        for path in image_paths:\n",
    "            f.write(f\"{path}\\n\")\n",
    "    \n",
    "    print(f\"Created {output_file} with {len(image_paths)} image paths\")\n",
    "\n",
    "for split in splits:\n",
    "    if os.path.exists(os.path.join(base_path, split)):\n",
    "        create_image_list(split)\n",
    "    else:\n",
    "        print(f\"Warning: Directory {split} not found\")\n",
    "\n",
    "print(\"Done!\")"
   ]
  },
  {
   "cell_type": "code",
   "execution_count": null,
   "metadata": {},
   "outputs": [],
   "source": []
  }
 ],
 "metadata": {
  "kernelspec": {
   "display_name": "Python 3",
   "language": "python",
   "name": "python3"
  },
  "language_info": {
   "codemirror_mode": {
    "name": "ipython",
    "version": 3
   },
   "file_extension": ".py",
   "mimetype": "text/x-python",
   "name": "python",
   "nbconvert_exporter": "python",
   "pygments_lexer": "ipython3",
   "version": "3.8.0"
  }
 },
 "nbformat": 4,
 "nbformat_minor": 2
}
