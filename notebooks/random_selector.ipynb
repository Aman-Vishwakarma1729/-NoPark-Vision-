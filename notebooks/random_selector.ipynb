{
 "cells": [
  {
   "cell_type": "markdown",
   "metadata": {},
   "source": [
    "## External Video to Image"
   ]
  },
  {
   "cell_type": "code",
   "execution_count": null,
   "metadata": {},
   "outputs": [
    {
     "name": "stdout",
     "output_type": "stream",
     "text": [
      "Successfully copied 800 images to D:\\VIT\\Cap-Stone\\AI_Based_Real-Time_Illegal_Parking_Detection_with_Dynamic_Customization_of_No-Parking_Zones\\datasets\\vehicles\\Final_Mix\n"
     ]
    }
   ],
   "source": [
    "import os\n",
    "import shutil\n",
    "import random\n",
    "from collections import defaultdict\n",
    "\n",
    "source_folder = r\"D:\\VIT\\Cap-Stone\\AI_Based_Real-Time_Illegal_Parking_Detection_with_Dynamic_Customization_of_No-Parking_Zones\\datasets\\vehicles\\External_Vided_to_Images\"\n",
    "destination_folder = r\"D:\\VIT\\Cap-Stone\\AI_Based_Real-Time_Illegal_Parking_Detection_with_Dynamic_Customization_of_No-Parking_Zones\\datasets\\vehicles\\Final_Mix\"\n",
    "\n",
    "os.makedirs(destination_folder, exist_ok=True)\n",
    "\n",
    "image_groups = defaultdict(list)\n",
    "for filename in os.listdir(source_folder):\n",
    "    if filename.startswith(\"video_\") and filename.endswith(\".jpg\"): \n",
    "        parts = filename.split(\"_\")\n",
    "        if len(parts) >= 3:\n",
    "            i = int(parts[1])\n",
    "            image_groups[i].append(filename)\n",
    "\n",
    "total_images = sum(len(images) for images in image_groups.values())\n",
    "selected_counts = {i: max(1, round(len(images) / total_images * 800)) for i, images in image_groups.items()}\n",
    "\n",
    "total_selected = sum(selected_counts.values())\n",
    "while total_selected > 800:\n",
    "    max_i = max(selected_counts, key=lambda x: selected_counts[x])\n",
    "    if selected_counts[max_i] > 1:\n",
    "        selected_counts[max_i] -= 1\n",
    "        total_selected -= 1\n",
    "while total_selected < 800:\n",
    "    min_i = min(selected_counts, key=lambda x: selected_counts[x])\n",
    "    selected_counts[min_i] += 1\n",
    "    total_selected += 1\n",
    "\n",
    "selected_images = []\n",
    "for i, count in selected_counts.items():\n",
    "    if i in image_groups:\n",
    "        selected_images.extend(random.sample(image_groups[i], min(count, len(image_groups[i]))))\n",
    "\n",
    "for img in selected_images:\n",
    "    src_path = os.path.join(source_folder, img)\n",
    "    dest_path = os.path.join(destination_folder, img)\n",
    "    shutil.copy2(src_path, dest_path)\n",
    "\n",
    "print(f\"Successfully copied {len(selected_images)} images to {destination_folder}\")"
   ]
  },
  {
   "cell_type": "markdown",
   "metadata": {},
   "source": [
    "## IIT-M Hetra Dataset"
   ]
  },
  {
   "cell_type": "code",
   "execution_count": null,
   "metadata": {},
   "outputs": [
    {
     "name": "stdout",
     "output_type": "stream",
     "text": [
      "Successfully copied 450 images to D:\\VIT\\Cap-Stone\\AI_Based_Real-Time_Illegal_Parking_Detection_with_Dynamic_Customization_of_No-Parking_Zones\\datasets\\vehicles\\Final_Mix\n"
     ]
    }
   ],
   "source": [
    "trainval_source = r\"D:\\VIT\\Cap-Stone\\AI_Based_Real-Time_Illegal_Parking_Detection_with_Dynamic_Customization_of_No-Parking_Zones\\datasets\\vehicles\\IIT-M_HeTra_Dataset\\trainval\\img\"\n",
    "test_source = r\"D:\\VIT\\Cap-Stone\\AI_Based_Real-Time_Illegal_Parking_Detection_with_Dynamic_Customization_of_No-Parking_Zones\\datasets\\vehicles\\IIT-M_HeTra_Dataset\\test\\img\"\n",
    "destination_folder = r\"D:\\VIT\\Cap-Stone\\AI_Based_Real-Time_Illegal_Parking_Detection_with_Dynamic_Customization_of_No-Parking_Zones\\datasets\\vehicles\\Final_Mix\"\n",
    "\n",
    "os.makedirs(destination_folder, exist_ok=True)\n",
    "\n",
    "def select_and_copy_images(source, num_images, start_index):\n",
    "    images = [f for f in os.listdir(source) if f.endswith(('.jpg', '.png', '.jpeg'))]  \n",
    "    selected_images = random.sample(images, min(num_images, len(images)))\n",
    "\n",
    "    for i, img in enumerate(selected_images, start=start_index):\n",
    "        src_path = os.path.join(source, img)\n",
    "        new_filename = f\"IITM_H_D_{i}.jpg\"\n",
    "        dest_path = os.path.join(destination_folder, new_filename)\n",
    "        shutil.copy2(src_path, dest_path) \n",
    "\n",
    "    return len(selected_images)\n",
    "\n",
    "# Copy 400 images from trainval set\n",
    "trainval_count = select_and_copy_images(trainval_source, 400, start_index=1)\n",
    "\n",
    "# Copy 50 images from test set, continuing the index\n",
    "test_count = select_and_copy_images(test_source, 50, start_index=trainval_count + 1)\n",
    "\n",
    "print(f\"Successfully copied {trainval_count + test_count} images to {destination_folder}\")\n"
   ]
  },
  {
   "cell_type": "markdown",
   "metadata": {},
   "source": [
    "## Indian Vehicle Dataset"
   ]
  },
  {
   "cell_type": "code",
   "execution_count": 3,
   "metadata": {},
   "outputs": [
    {
     "name": "stdout",
     "output_type": "stream",
     "text": [
      "Successfully copied 300 images to D:\\VIT\\Cap-Stone\\AI_Based_Real-Time_Illegal_Parking_Detection_with_Dynamic_Customization_of_No-Parking_Zones\\datasets\\vehicles\\Final_Mix\n"
     ]
    }
   ],
   "source": [
    "source_folders = {\n",
    "    \"Auto\": r\"D:\\VIT\\Cap-Stone\\AI_Based_Real-Time_Illegal_Parking_Detection_with_Dynamic_Customization_of_No-Parking_Zones\\datasets\\vehicles\\Indian_Vehicle_Dataset\\Auto\",\n",
    "    \"Bus\": r\"D:\\VIT\\Cap-Stone\\AI_Based_Real-Time_Illegal_Parking_Detection_with_Dynamic_Customization_of_No-Parking_Zones\\datasets\\vehicles\\Indian_Vehicle_Dataset\\Bus\",\n",
    "    \"Truck\": r\"D:\\VIT\\Cap-Stone\\AI_Based_Real-Time_Illegal_Parking_Detection_with_Dynamic_Customization_of_No-Parking_Zones\\datasets\\vehicles\\Indian_Vehicle_Dataset\\Truck\"\n",
    "}\n",
    "\n",
    "destination_folder = r\"D:\\VIT\\Cap-Stone\\AI_Based_Real-Time_Illegal_Parking_Detection_with_Dynamic_Customization_of_No-Parking_Zones\\datasets\\vehicles\\Final_Mix\"\n",
    "\n",
    "os.makedirs(destination_folder, exist_ok=True)\n",
    "\n",
    "def select_and_copy_images(source, num_images, start_index):\n",
    "    images = [f for f in os.listdir(source) if f.endswith(('.jpg', '.png', '.jpeg'))]\n",
    "    selected_images = random.sample(images, min(num_images, len(images)))\n",
    "\n",
    "    for i, img in enumerate(selected_images, start=start_index):\n",
    "        src_path = os.path.join(source, img)\n",
    "        new_filename = f\"I_V_D_{i}.jpg\"\n",
    "        dest_path = os.path.join(destination_folder, new_filename)\n",
    "        shutil.copy2(src_path, dest_path) \n",
    "\n",
    "    return len(selected_images)\n",
    "\n",
    "# Copy 100 images from each category\n",
    "index = 1\n",
    "for category, folder in source_folders.items():\n",
    "    count = select_and_copy_images(folder, 100, start_index=index)\n",
    "    index += count \n",
    "\n",
    "print(f\"Successfully copied {index - 1} images to {destination_folder}\")\n"
   ]
  },
  {
   "cell_type": "markdown",
   "metadata": {},
   "source": [
    "## Kitti Dataset"
   ]
  },
  {
   "cell_type": "code",
   "execution_count": 4,
   "metadata": {},
   "outputs": [
    {
     "name": "stdout",
     "output_type": "stream",
     "text": [
      "Successfully copied 250 images to D:\\VIT\\Cap-Stone\\AI_Based_Real-Time_Illegal_Parking_Detection_with_Dynamic_Customization_of_No-Parking_Zones\\datasets\\vehicles\\Final_Mix\n"
     ]
    }
   ],
   "source": [
    "test_source = r\"D:\\VIT\\Cap-Stone\\AI_Based_Real-Time_Illegal_Parking_Detection_with_Dynamic_Customization_of_No-Parking_Zones\\datasets\\vehicles\\kitti_dataset_sample\\test\\img\"\n",
    "train_source = r\"D:\\VIT\\Cap-Stone\\AI_Based_Real-Time_Illegal_Parking_Detection_with_Dynamic_Customization_of_No-Parking_Zones\\datasets\\vehicles\\kitti_dataset_sample\\train\\img\"\n",
    "\n",
    "destination_folder = r\"D:\\VIT\\Cap-Stone\\AI_Based_Real-Time_Illegal_Parking_Detection_with_Dynamic_Customization_of_No-Parking_Zones\\datasets\\vehicles\\Final_Mix\"\n",
    "\n",
    "os.makedirs(destination_folder, exist_ok=True)\n",
    "\n",
    "def select_and_copy_images(source, num_images, start_index):\n",
    "    images = [f for f in os.listdir(source) if f.endswith(('.jpg', '.png', '.jpeg'))]  \n",
    "    selected_images = random.sample(images, min(num_images, len(images)))\n",
    "\n",
    "    for i, img in enumerate(selected_images, start=start_index):\n",
    "        src_path = os.path.join(source, img)\n",
    "        new_filename = f\"K_D_{i}.jpg\"\n",
    "        dest_path = os.path.join(destination_folder, new_filename)\n",
    "        shutil.copy2(src_path, dest_path)\n",
    "\n",
    "    return len(selected_images)\n",
    "\n",
    "# Copy 100 images from test set\n",
    "test_count = select_and_copy_images(test_source, 100, start_index=1)\n",
    "\n",
    "# Copy 150 images from train set, continuing the index\n",
    "train_count = select_and_copy_images(train_source, 150, start_index=test_count + 1)\n",
    "\n",
    "print(f\"Successfully copied {test_count + train_count} images to {destination_folder}\")\n"
   ]
  },
  {
   "cell_type": "code",
   "execution_count": null,
   "metadata": {},
   "outputs": [],
   "source": []
  },
  {
   "cell_type": "code",
   "execution_count": null,
   "metadata": {},
   "outputs": [],
   "source": []
  },
  {
   "cell_type": "code",
   "execution_count": null,
   "metadata": {},
   "outputs": [],
   "source": []
  },
  {
   "cell_type": "code",
   "execution_count": null,
   "metadata": {},
   "outputs": [],
   "source": []
  },
  {
   "cell_type": "code",
   "execution_count": null,
   "metadata": {},
   "outputs": [],
   "source": []
  },
  {
   "cell_type": "code",
   "execution_count": null,
   "metadata": {},
   "outputs": [],
   "source": []
  },
  {
   "cell_type": "code",
   "execution_count": null,
   "metadata": {},
   "outputs": [],
   "source": []
  },
  {
   "cell_type": "code",
   "execution_count": null,
   "metadata": {},
   "outputs": [],
   "source": []
  },
  {
   "cell_type": "code",
   "execution_count": null,
   "metadata": {},
   "outputs": [],
   "source": []
  },
  {
   "cell_type": "code",
   "execution_count": null,
   "metadata": {},
   "outputs": [],
   "source": []
  },
  {
   "cell_type": "code",
   "execution_count": null,
   "metadata": {},
   "outputs": [],
   "source": []
  },
  {
   "cell_type": "code",
   "execution_count": null,
   "metadata": {},
   "outputs": [],
   "source": []
  },
  {
   "cell_type": "code",
   "execution_count": null,
   "metadata": {},
   "outputs": [],
   "source": []
  },
  {
   "cell_type": "code",
   "execution_count": null,
   "metadata": {},
   "outputs": [],
   "source": []
  },
  {
   "cell_type": "code",
   "execution_count": null,
   "metadata": {},
   "outputs": [],
   "source": []
  },
  {
   "cell_type": "code",
   "execution_count": null,
   "metadata": {},
   "outputs": [],
   "source": []
  },
  {
   "cell_type": "code",
   "execution_count": null,
   "metadata": {},
   "outputs": [],
   "source": []
  }
 ],
 "metadata": {
  "kernelspec": {
   "display_name": "Python 3",
   "language": "python",
   "name": "python3"
  },
  "language_info": {
   "codemirror_mode": {
    "name": "ipython",
    "version": 3
   },
   "file_extension": ".py",
   "mimetype": "text/x-python",
   "name": "python",
   "nbconvert_exporter": "python",
   "pygments_lexer": "ipython3",
   "version": "3.10.0"
  }
 },
 "nbformat": 4,
 "nbformat_minor": 2
}
