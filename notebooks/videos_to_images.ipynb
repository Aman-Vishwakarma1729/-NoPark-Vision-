{
 "cells": [
  {
   "cell_type": "code",
   "execution_count": 4,
   "metadata": {},
   "outputs": [],
   "source": [
    "import os\n",
    "import cv2"
   ]
  },
  {
   "cell_type": "code",
   "execution_count": 8,
   "metadata": {},
   "outputs": [],
   "source": [
    "external_vid_directory_path = r\"D:\\VIT\\Cap-Stone\\AI_Based_Real-Time_Illegal_Parking_Detection_with_Dynamic_Customization_of_No-Parking_Zones\\datasets\\vehicles\\External_Videos\"\n",
    "target_folder_path = r\"D:\\VIT\\Cap-Stone\\AI_Based_Real-Time_Illegal_Parking_Detection_with_Dynamic_Customization_of_No-Parking_Zones\\datasets\\vehicles\\External_Vided_to_Images\""
   ]
  },
  {
   "cell_type": "code",
   "execution_count": 9,
   "metadata": {},
   "outputs": [
    {
     "name": "stdout",
     "output_type": "stream",
     "text": [
      "Frame extraction completed successfully.\n"
     ]
    }
   ],
   "source": [
    "os.makedirs(target_folder_path, exist_ok=True)\n",
    "\n",
    "for video_file in os.listdir(external_vid_directory_path):\n",
    "    video_path = os.path.join(external_vid_directory_path, video_file)\n",
    "    \n",
    "    if not video_file.lower().endswith(('.mp4', '.avi', '.mov', '.mkv', '.wmv')):\n",
    "        continue\n",
    "\n",
    "    video_name = os.path.splitext(video_file)[0]\n",
    "    cap = cv2.VideoCapture(video_path)\n",
    "    frame_count = 0\n",
    "\n",
    "    while cap.isOpened():\n",
    "        ret, frame = cap.read()\n",
    "        if not ret:\n",
    "            break\n",
    "\n",
    "        image_filename = f\"{video_name}_{frame_count}.jpg\"\n",
    "        image_path = os.path.join(target_folder_path, image_filename)\n",
    "\n",
    "        cv2.imwrite(image_path, frame)\n",
    "        frame_count += 1\n",
    "\n",
    "    cap.release()\n",
    "\n",
    "print(\"Frame extraction completed successfully.\")\n"
   ]
  },
  {
   "cell_type": "code",
   "execution_count": null,
   "metadata": {},
   "outputs": [],
   "source": []
  }
 ],
 "metadata": {
  "kernelspec": {
   "display_name": "Python 3",
   "language": "python",
   "name": "python3"
  },
  "language_info": {
   "codemirror_mode": {
    "name": "ipython",
    "version": 3
   },
   "file_extension": ".py",
   "mimetype": "text/x-python",
   "name": "python",
   "nbconvert_exporter": "python",
   "pygments_lexer": "ipython3",
   "version": "3.10.0"
  }
 },
 "nbformat": 4,
 "nbformat_minor": 2
}
